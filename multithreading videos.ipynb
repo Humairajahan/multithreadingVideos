{
 "cells": [
  {
   "cell_type": "markdown",
   "id": "7d988402",
   "metadata": {},
   "source": [
    "# Import libraries"
   ]
  },
  {
   "cell_type": "code",
   "execution_count": 1,
   "id": "1999a914",
   "metadata": {},
   "outputs": [],
   "source": [
    "import os\n",
    "import numpy as np\n",
    "import cv2\n",
    "import matplotlib.pyplot as plt\n",
    "import threading\n",
    "import time"
   ]
  },
  {
   "cell_type": "markdown",
   "id": "011ae993",
   "metadata": {},
   "source": [
    "# Collecting frames from a video "
   ]
  },
  {
   "cell_type": "code",
   "execution_count": 2,
   "id": "1a784f36",
   "metadata": {},
   "outputs": [],
   "source": [
    "def collectFrames(videoPath, dictionary):\n",
    "    cap = cv2.VideoCapture(videoPath)\n",
    "    i=0\n",
    "    while(cap.isOpened()):\n",
    "        ret, frame = cap.read()\n",
    "        if ret == False:\n",
    "            break\n",
    "        dictionary[i] = frame\n",
    "        i+=1\n",
    "    return dictionary"
   ]
  },
  {
   "cell_type": "markdown",
   "id": "7e8511c3",
   "metadata": {},
   "source": [
    "# Multithreading"
   ]
  },
  {
   "cell_type": "code",
   "execution_count": 3,
   "id": "381f3e37",
   "metadata": {},
   "outputs": [],
   "source": [
    "videoPath1 = 'D:\\\\From dell\\\\from E\\\\headless\\\\videos\\\\1.mp4'\n",
    "videoPath2 = 'D:\\\\From dell\\\\from E\\\\headless\\\\videos\\\\2.mp4'\n",
    "videoPath3 = 'D:\\\\From dell\\\\from E\\\\headless\\\\videos\\\\3.mp4'\n",
    "videoPath4 = 'D:\\\\From dell\\\\from E\\\\headless\\\\videos\\\\4.mp4'\n",
    "\n",
    "framesDict1 = {}\n",
    "framesDict2 = {}\n",
    "framesDict3 = {}\n",
    "framesDict4 = {}\n",
    "\n",
    "videoPath = [videoPath1, videoPath2, videoPath3, videoPath4]\n",
    "framesDict = [framesDict1, framesDict2, framesDict3, framesDict4]"
   ]
  },
  {
   "cell_type": "code",
   "execution_count": 6,
   "id": "8d063b10",
   "metadata": {},
   "outputs": [
    {
     "name": "stdout",
     "output_type": "stream",
     "text": [
      "Finished in 6.98 seconds (s)\n"
     ]
    }
   ],
   "source": [
    "start = time.perf_counter()\n",
    "\n",
    "threads = []\n",
    "\n",
    "for i in range(4):\n",
    "    t = threading.Thread(target=collectFrames, args=(videoPath[i], framesDict[i], ))\n",
    "    t.start()\n",
    "    threads.append(t)\n",
    "    \n",
    "for thread in threads:\n",
    "    thread.join()\n",
    "\n",
    "finish = time.perf_counter()\n",
    "\n",
    "print(f\"Finished in {round(finish-start, 2)} seconds (s)\")"
   ]
  },
  {
   "cell_type": "markdown",
   "id": "e3f84a27",
   "metadata": {},
   "source": [
    "# Merging the frames"
   ]
  },
  {
   "cell_type": "code",
   "execution_count": 8,
   "id": "96ce1f32",
   "metadata": {},
   "outputs": [],
   "source": [
    "def getMaxLen(dictionary):\n",
    "    \n",
    "    'returns the max number of frames available among the videos'\n",
    "    \n",
    "    lengths = []\n",
    "    for _ in dictionary:\n",
    "        lengths.append(len(_))\n",
    "    return np.max(lengths)   \n",
    "\n",
    "maxFrames = getMaxLen(framesDict)"
   ]
  },
  {
   "cell_type": "code",
   "execution_count": 9,
   "id": "7063a403",
   "metadata": {},
   "outputs": [],
   "source": [
    "def fillEmptyFrames(dictionary, maxFrames):\n",
    "    \n",
    "    'All the videos are not of the same frame size'\n",
    "    'returns the frames dictionary after filling out the blank frames, making all the videos of the same frame size'\n",
    "    \n",
    "    for i in range(maxFrames):\n",
    "        if i not in dictionary:\n",
    "            dictionary[i] = np.zeros((1080,1920,3))\n",
    "        else:\n",
    "            pass\n",
    "    return dictionary"
   ]
  },
  {
   "cell_type": "code",
   "execution_count": 12,
   "id": "232ac3b9",
   "metadata": {},
   "outputs": [],
   "source": [
    "framesDict1 = fillEmptyFrames(framesDict1, maxFrames = maxFrames)\n",
    "framesDict2 = fillEmptyFrames(framesDict2, maxFrames = maxFrames)\n",
    "framesDict3 = fillEmptyFrames(framesDict3, maxFrames = maxFrames)\n",
    "framesDict4 = fillEmptyFrames(framesDict4, maxFrames = maxFrames)"
   ]
  },
  {
   "cell_type": "code",
   "execution_count": 13,
   "id": "0d21ba4b",
   "metadata": {},
   "outputs": [],
   "source": [
    "out = cv2.VideoWriter('merged Video_fps 24.avi', cv2.VideoWriter_fourcc(*'DIVX'), 24, (1920,1080)) \n",
    "        # fps = minimum of the videos\n",
    "    \n",
    "finalFrame = {}\n",
    "\n",
    "for i in range(maxFrames):   \n",
    "    row1 = np.hstack((framesDict1[i],framesDict2[i]))\n",
    "    row2 = np.hstack((framesDict3[i],framesDict4[i]))\n",
    "    wholeImg = np.vstack((row1, row2))\n",
    "    finalFrame[i] = cv2.resize(wholeImg, (1920, 1080))\n",
    "    out.write(finalFrame[i])\n",
    "\n",
    "out.release()"
   ]
  },
  {
   "cell_type": "code",
   "execution_count": null,
   "id": "828a2fed",
   "metadata": {},
   "outputs": [],
   "source": []
  }
 ],
 "metadata": {
  "kernelspec": {
   "display_name": "Python 3 (ipykernel)",
   "language": "python",
   "name": "python3"
  },
  "language_info": {
   "codemirror_mode": {
    "name": "ipython",
    "version": 3
   },
   "file_extension": ".py",
   "mimetype": "text/x-python",
   "name": "python",
   "nbconvert_exporter": "python",
   "pygments_lexer": "ipython3",
   "version": "3.8.12"
  }
 },
 "nbformat": 4,
 "nbformat_minor": 5
}
